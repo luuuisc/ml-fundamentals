{
 "cells": [
  {
   "cell_type": "markdown",
   "id": "398d8181",
   "metadata": {},
   "source": [
    "## Curso de Fundamentos de Machine Learning \n",
    "\n",
    "### Escalado de datos "
   ]
  },
  {
   "cell_type": "code",
   "execution_count": 3,
   "id": "c2fc32d7",
   "metadata": {},
   "outputs": [
    {
     "data": {
      "text/html": [
       "<div>\n",
       "<style scoped>\n",
       "    .dataframe tbody tr th:only-of-type {\n",
       "        vertical-align: middle;\n",
       "    }\n",
       "\n",
       "    .dataframe tbody tr th {\n",
       "        vertical-align: top;\n",
       "    }\n",
       "\n",
       "    .dataframe thead th {\n",
       "        text-align: right;\n",
       "    }\n",
       "</style>\n",
       "<table border=\"1\" class=\"dataframe\">\n",
       "  <thead>\n",
       "    <tr style=\"text-align: right;\">\n",
       "      <th></th>\n",
       "      <th>fecha_partido</th>\n",
       "      <th>equipo_local</th>\n",
       "      <th>equipo_visitante</th>\n",
       "      <th>goles_local</th>\n",
       "      <th>goles_visitante</th>\n",
       "      <th>posesion_local (%)</th>\n",
       "      <th>posesion_visitante (%)</th>\n",
       "      <th>tiros_arco_local</th>\n",
       "      <th>tiros_arco_visitante</th>\n",
       "      <th>estadio</th>\n",
       "    </tr>\n",
       "  </thead>\n",
       "  <tbody>\n",
       "    <tr>\n",
       "      <th>0</th>\n",
       "      <td>2023-01-01</td>\n",
       "      <td>Atlético Python</td>\n",
       "      <td>Cebollitas FC</td>\n",
       "      <td>2</td>\n",
       "      <td>0</td>\n",
       "      <td>54</td>\n",
       "      <td>46</td>\n",
       "      <td>12</td>\n",
       "      <td>6</td>\n",
       "      <td>Python Arena</td>\n",
       "    </tr>\n",
       "    <tr>\n",
       "      <th>1</th>\n",
       "      <td>2023-01-08</td>\n",
       "      <td>NumPy City</td>\n",
       "      <td>Atlético Python</td>\n",
       "      <td>1</td>\n",
       "      <td>5</td>\n",
       "      <td>60</td>\n",
       "      <td>40</td>\n",
       "      <td>12</td>\n",
       "      <td>3</td>\n",
       "      <td>Estadio ML</td>\n",
       "    </tr>\n",
       "    <tr>\n",
       "      <th>2</th>\n",
       "      <td>2023-01-15</td>\n",
       "      <td>Cebollitas FC</td>\n",
       "      <td>Data United</td>\n",
       "      <td>1</td>\n",
       "      <td>0</td>\n",
       "      <td>55</td>\n",
       "      <td>45</td>\n",
       "      <td>10</td>\n",
       "      <td>7</td>\n",
       "      <td>Python Arena</td>\n",
       "    </tr>\n",
       "    <tr>\n",
       "      <th>3</th>\n",
       "      <td>2023-01-22</td>\n",
       "      <td>Atlético Python</td>\n",
       "      <td>Data United</td>\n",
       "      <td>2</td>\n",
       "      <td>3</td>\n",
       "      <td>57</td>\n",
       "      <td>43</td>\n",
       "      <td>3</td>\n",
       "      <td>3</td>\n",
       "      <td>Campo Pandas</td>\n",
       "    </tr>\n",
       "    <tr>\n",
       "      <th>4</th>\n",
       "      <td>2023-01-29</td>\n",
       "      <td>Data United</td>\n",
       "      <td>Cebollitas FC</td>\n",
       "      <td>5</td>\n",
       "      <td>3</td>\n",
       "      <td>52</td>\n",
       "      <td>48</td>\n",
       "      <td>7</td>\n",
       "      <td>12</td>\n",
       "      <td>Estadio ML</td>\n",
       "    </tr>\n",
       "  </tbody>\n",
       "</table>\n",
       "</div>"
      ],
      "text/plain": [
       "  fecha_partido     equipo_local equipo_visitante  goles_local  \\\n",
       "0    2023-01-01  Atlético Python    Cebollitas FC            2   \n",
       "1    2023-01-08       NumPy City  Atlético Python            1   \n",
       "2    2023-01-15    Cebollitas FC      Data United            1   \n",
       "3    2023-01-22  Atlético Python      Data United            2   \n",
       "4    2023-01-29      Data United    Cebollitas FC            5   \n",
       "\n",
       "   goles_visitante  posesion_local (%)  posesion_visitante (%)  \\\n",
       "0                0                  54                      46   \n",
       "1                5                  60                      40   \n",
       "2                0                  55                      45   \n",
       "3                3                  57                      43   \n",
       "4                3                  52                      48   \n",
       "\n",
       "   tiros_arco_local  tiros_arco_visitante       estadio  \n",
       "0                12                     6  Python Arena  \n",
       "1                12                     3    Estadio ML  \n",
       "2                10                     7  Python Arena  \n",
       "3                 3                     3  Campo Pandas  \n",
       "4                 7                    12    Estadio ML  "
      ]
     },
     "execution_count": 3,
     "metadata": {},
     "output_type": "execute_result"
    }
   ],
   "source": [
    "import pandas as pd \n",
    "from sklearn.preprocessing import MinMaxScaler, StandardScaler\n",
    "\n",
    "# Cargar dataset preparado \n",
    "df = pd.read_csv('../data/data.csv')\n",
    "df.head()"
   ]
  },
  {
   "cell_type": "code",
   "execution_count": 7,
   "id": "2a651cce",
   "metadata": {},
   "outputs": [
    {
     "name": "stdout",
     "output_type": "stream",
     "text": [
      "   tiros_arco_local  tiros_arco_local_norm\n",
      "0                12               1.000000\n",
      "1                12               1.000000\n",
      "2                10               0.777778\n",
      "3                 3               0.000000\n",
      "4                 7               0.444444\n",
      "5                 8               0.555556\n",
      "6                 4               0.111111\n",
      "7                 5               0.222222\n",
      "8                 9               0.666667\n",
      "   tiros_arco_visitante  tiros_arco_visitante_norm\n",
      "0                     6                   0.333333\n",
      "1                     3                   0.000000\n",
      "2                     7                   0.444444\n",
      "3                     3                   0.000000\n",
      "4                    12                   1.000000\n",
      "5                    11                   0.888889\n",
      "6                     8                   0.555556\n",
      "7                     5                   0.222222\n",
      "8                     9                   0.666667\n"
     ]
    }
   ],
   "source": [
    "# Aplicar Normalización a tiro al arco (aprox 0-15 tiros)\n",
    "scaler = MinMaxScaler()\n",
    "\n",
    "df['tiros_arco_local_norm'] = scaler.fit_transform(df[['tiros_arco_local']])\n",
    "df['tiros_arco_visitante_norm'] = scaler.fit_transform(df[['tiros_arco_visitante']])\n",
    "\n",
    "# Ver resultados\n",
    "print(df[['tiros_arco_local', 'tiros_arco_local_norm']].head(9))\n",
    "print(df[['tiros_arco_visitante', 'tiros_arco_visitante_norm']].head(9))"
   ]
  },
  {
   "cell_type": "code",
   "execution_count": 10,
   "id": "5cde1b6a",
   "metadata": {},
   "outputs": [
    {
     "name": "stdout",
     "output_type": "stream",
     "text": [
      "   posesion_local (%)  posesion_local_std\n",
      "0                  54            0.624415\n",
      "1                  60            1.623479\n",
      "2                  55            0.790926\n",
      "3                  57            1.123947\n",
      "4                  52            0.291394\n",
      "5                  60            1.623479\n",
      "6                  49           -0.208138\n",
      "7                  56            0.957436\n",
      "8                  60            1.623479\n",
      "   posesion_visitante (%)  posesion_visitante_std\n",
      "0                      46               -0.624415\n",
      "1                      40               -1.623479\n",
      "2                      45               -0.790926\n",
      "3                      43               -1.123947\n",
      "4                      48               -0.291394\n",
      "5                      40               -1.623479\n",
      "6                      51                0.208138\n",
      "7                      44               -0.957436\n",
      "8                      40               -1.623479\n"
     ]
    }
   ],
   "source": [
    "# Aplicar Estandarización a la posesión (0-100%)\n",
    "scaler = StandardScaler()\n",
    "\n",
    "df['posesion_local_std'] = scaler.fit_transform(df[['posesion_local (%)']])\n",
    "df['posesion_visitante_std'] = scaler.fit_transform(df[['posesion_visitante (%)']])\n",
    "\n",
    "# Ver resultados\n",
    "print(df[['posesion_local (%)', 'posesion_local_std']].head(9))\n",
    "print(df[['posesion_visitante (%)', 'posesion_visitante_std']].head(9))"
   ]
  },
  {
   "cell_type": "code",
   "execution_count": 13,
   "id": "ccd61de9",
   "metadata": {},
   "outputs": [
    {
     "data": {
      "image/png": "[encoded data removed]",
      "text/plain": [
       "<Figure size 1200x400 with 2 Axes>"
      ]
     },
     "metadata": {},
     "output_type": "display_data"
    }
   ],
   "source": [
    "import matplotlib.pyplot as plt\n",
    "import seaborn as sns\n",
    "\n",
    "# Creamos figura para 2 subgráficas\n",
    "fig, ax = plt.subplots(1, 2, figsize=(12, 4))\n",
    "\n",
    "# Visualizar Normalización de Tiros al Arco\n",
    "sns.histplot(df['tiros_arco_local_norm'], bins=15, kde=True, ax=ax[0], color='blue', label='Local')\n",
    "ax[0].set_title('Normalización de Tiros al Arco Local')\n",
    "\n",
    "# Visualizar posesión local (Estandarización)\n",
    "sns.histplot(df['posesion_local_std'], bins=15, kde=True, ax=ax[1], color='green', label='Local')\n",
    "ax[1].set_title('Estandarización de Posesión Local')\n",
    "\n",
    "plt.tight_layout()\n",
    "plt.show()"
   ]
  }
 ],
 "metadata": {
  "kernelspec": {
   "display_name": "base",
   "language": "python",
   "name": "python3"
  },
  "language_info": {
   "codemirror_mode": {
    "name": "ipython",
    "version": 3
   },
   "file_extension": ".py",
   "mimetype": "text/x-python",
   "name": "python",
   "nbconvert_exporter": "python",
   "pygments_lexer": "ipython3",
   "version": "3.11.8"
  }
 },
 "nbformat": 4,
 "nbformat_minor": 5
}
