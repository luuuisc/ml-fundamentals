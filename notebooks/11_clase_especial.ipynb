{
 "cells": [
  {
   "cell_type": "markdown",
   "id": "860969c3",
   "metadata": {},
   "source": [
    "## 🧠 Clase Especial – Reflexión Crítica y Cambio de Modelo\n",
    "En esta clase analizaremos por qué el modelo de Regresión Lineal no tuvo el desempeño esperado y cómo podemos usar esta información para replantear nuestro enfoque.\n",
    "\n",
    "Veremos:\n",
    "\n",
    "- ¿Qué falló en el modelo actual?\n",
    "- ¿Qué dicen las métricas?\n",
    "- ¿Qué alternativas tenemos?\n",
    "- Introducción al Árbol de Decisión como nuevo modelo base"
   ]
  },
  {
   "cell_type": "code",
   "execution_count": 1,
   "id": "ebfb8d09",
   "metadata": {},
   "outputs": [
    {
     "data": {
      "text/html": [
       "<div>\n",
       "<style scoped>\n",
       "    .dataframe tbody tr th:only-of-type {\n",
       "        vertical-align: middle;\n",
       "    }\n",
       "\n",
       "    .dataframe tbody tr th {\n",
       "        vertical-align: top;\n",
       "    }\n",
       "\n",
       "    .dataframe thead th {\n",
       "        text-align: right;\n",
       "    }\n",
       "</style>\n",
       "<table border=\"1\" class=\"dataframe\">\n",
       "  <thead>\n",
       "    <tr style=\"text-align: right;\">\n",
       "      <th></th>\n",
       "      <th>Modelo</th>\n",
       "      <th>RMSE</th>\n",
       "      <th>MAE</th>\n",
       "      <th>R²</th>\n",
       "    </tr>\n",
       "  </thead>\n",
       "  <tbody>\n",
       "    <tr>\n",
       "      <th>0</th>\n",
       "      <td>Regresión Lineal</td>\n",
       "      <td>2.23</td>\n",
       "      <td>1.89</td>\n",
       "      <td>-0.03</td>\n",
       "    </tr>\n",
       "    <tr>\n",
       "      <th>1</th>\n",
       "      <td>Árbol de Decisión</td>\n",
       "      <td>0.93</td>\n",
       "      <td>0.70</td>\n",
       "      <td>0.82</td>\n",
       "    </tr>\n",
       "  </tbody>\n",
       "</table>\n",
       "</div>"
      ],
      "text/plain": [
       "              Modelo  RMSE   MAE    R²\n",
       "0   Regresión Lineal  2.23  1.89 -0.03\n",
       "1  Árbol de Decisión  0.93  0.70  0.82"
      ]
     },
     "metadata": {},
     "output_type": "display_data"
    }
   ],
   "source": [
    "import pandas as pd\n",
    "import matplotlib.pyplot as plt\n",
    "\n",
    "# Métricas obtenidas del modelo de regresión lineal\n",
    "metricas_rl = {\n",
    "    'Modelo': 'Regresión Lineal',\n",
    "    'RMSE': 2.23,\n",
    "    'MAE': 1.89,\n",
    "    'R²': -0.03\n",
    "}\n",
    "\n",
    "# Métricas del Árbol de Decisión (bonus)\n",
    "metricas_arbol = {\n",
    "    'Modelo': 'Árbol de Decisión',\n",
    "    'RMSE': 0.93,\n",
    "    'MAE': 0.70,\n",
    "    'R²': 0.82\n",
    "}\n",
    "\n",
    "# Comparación\n",
    "df_comparacion = pd.DataFrame([metricas_rl, metricas_arbol])\n",
    "display(df_comparacion)"
   ]
  },
  {
   "cell_type": "markdown",
   "id": "5ead4c33",
   "metadata": {},
   "source": [
    "## 🤔 ¿Qué observamos?\n",
    "- El modelo de Regresión Lineal tiene un R² negativo, lo que indica que es peor que simplemente predecir el promedio.\n",
    "- El Árbol de Decisión mejora todas las métricas:\n",
    "    - Menor error (RMSE y MAE)\n",
    "    - Mayor capacidad de explicar la variabilidad (R² positivo)\n",
    "    \n",
    "Esto sugiere que la relación entre variables no es lineal, y por eso el modelo lineal no capta bien el patrón."
   ]
  },
  {
   "cell_type": "markdown",
   "id": "27604c79",
   "metadata": {},
   "source": [
    "## 🛠️ ¿Qué aprendimos hasta ahora?\n",
    "1. Cómo preparar datos y construir modelos básicos.\n",
    "2. Qué métricas evaluar.\n",
    "3. Que no todos los algoritmos sirven para todos los problemas."
   ]
  },
  {
   "cell_type": "markdown",
   "id": "c6b598e5",
   "metadata": {},
   "source": [
    "## 🧭 ¿Y ahora qué?\n",
    "Podemos rediseñar nuestra estrategia a partir del Árbol de Decisión:\n",
    "\n",
    "- Redefinir el pipeline\n",
    "- Mejorar visualizaciones\n",
    "- Explorar nuevos modelos más robustos\n",
    "\n",
    "Esto marca un nuevo comienzo más realista y alineado con el comportamiento de los datos."
   ]
  }
 ],
 "metadata": {
  "kernelspec": {
   "display_name": "base",
   "language": "python",
   "name": "python3"
  },
  "language_info": {
   "codemirror_mode": {
    "name": "ipython",
    "version": 3
   },
   "file_extension": ".py",
   "mimetype": "text/x-python",
   "name": "python",
   "nbconvert_exporter": "python",
   "pygments_lexer": "ipython3",
   "version": "3.11.8"
  }
 },
 "nbformat": 4,
 "nbformat_minor": 5
}
